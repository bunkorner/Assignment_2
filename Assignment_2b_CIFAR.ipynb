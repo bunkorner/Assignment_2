{
  "cells": [
    {
      "cell_type": "markdown",
      "metadata": {
        "id": "view-in-github",
        "colab_type": "text"
      },
      "source": [
        "<a href=\"https://colab.research.google.com/github/bunkorner/VR_Assignment2/blob/main/Assignment_2b_CIFAR.ipynb\" target=\"_parent\"><img src=\"https://colab.research.google.com/assets/colab-badge.svg\" alt=\"Open In Colab\"/></a>"
      ]
    },
    {
      "cell_type": "code",
      "execution_count": 116,
      "metadata": {
        "id": "nFQgbIqmgEcz"
      },
      "outputs": [],
      "source": [
        "import cv2\n",
        "import os\n",
        "import numpy as np\n",
        "import pickle"
      ]
    },
    {
      "cell_type": "code",
      "execution_count": 117,
      "metadata": {
        "colab": {
          "base_uri": "https://localhost:8080/"
        },
        "id": "zwt-JH1_j2KA",
        "outputId": "d2027324-4847-4e76-f1ba-ad1f74d61b5b"
      },
      "outputs": [
        {
          "output_type": "stream",
          "name": "stdout",
          "text": [
            "Drive already mounted at /content/gdrive; to attempt to forcibly remount, call drive.mount(\"/content/gdrive\", force_remount=True).\n"
          ]
        }
      ],
      "source": [
        "from google.colab import drive\n",
        "drive.mount('/content/gdrive')"
      ]
    },
    {
      "cell_type": "code",
      "source": [
        "srcPath = '/content/gdrive/MyDrive/CV/Assignment_2/CIFAR10/data_batch_1'"
      ],
      "metadata": {
        "id": "Pc0xJwjvIU9v"
      },
      "execution_count": 118,
      "outputs": []
    },
    {
      "cell_type": "code",
      "source": [
        "def unpickle(file):\n",
        "    import pickle\n",
        "    with open(file, 'rb') as fo:\n",
        "        dict = pickle.load(fo, encoding='bytes')\n",
        "    return dict"
      ],
      "metadata": {
        "id": "E94u2PLFXxwd"
      },
      "execution_count": 119,
      "outputs": []
    },
    {
      "cell_type": "code",
      "source": [
        "imgData = unpickle(srcPath)"
      ],
      "metadata": {
        "id": "iLX4r6LDqa-4"
      },
      "execution_count": 120,
      "outputs": []
    },
    {
      "cell_type": "code",
      "source": [
        "imgFiles = []\n",
        "for img in imgData[b'data']:\n",
        "    r = img[:1024]\n",
        "    g = img[1024:2048]\n",
        "    b = img[2048:]\n",
        "    r = r.reshape([32,32])\n",
        "    g = g.reshape([32,32])\n",
        "    b = b.reshape([32,32])\n",
        "    merged = cv2.merge([b, g, r])\n",
        "    imgFiles.append(merged)\n",
        "imgFiles = np.asarray(imgFiles)"
      ],
      "metadata": {
        "id": "CkUJbnR8J6PU"
      },
      "execution_count": 121,
      "outputs": []
    },
    {
      "cell_type": "code",
      "source": [
        "labels = imgData[b'labels']\n",
        "filenames = imgData[b'filenames']"
      ],
      "metadata": {
        "id": "J8bEVRVDx7yE"
      },
      "execution_count": 122,
      "outputs": []
    },
    {
      "cell_type": "code",
      "source": [
        "import matplotlib.pyplot as plt\n",
        "plt.imshow(cv2.cvtColor(imgFiles[5], cv2.COLOR_BGR2RGB))\n",
        "print(filenames[5])\n",
        "print(labels[5])"
      ],
      "metadata": {
        "colab": {
          "base_uri": "https://localhost:8080/",
          "height": 302
        },
        "id": "Dy7S--IbxWa7",
        "outputId": "7d428509-4822-4d78-988c-73006c53ca65"
      },
      "execution_count": 123,
      "outputs": [
        {
          "output_type": "stream",
          "name": "stdout",
          "text": [
            "b'coupe_s_001735.png'\n",
            "1\n"
          ]
        },
        {
          "output_type": "display_data",
          "data": {
            "text/plain": [
              "<Figure size 432x288 with 1 Axes>"
            ],
            "image/png": "[encoded data removed]"
          },
          "metadata": {
            "needs_background": "light"
          }
        }
      ]
    },
    {
      "cell_type": "code",
      "source": [
        "from sklearn.cluster import KMeans\n",
        "numberOfClusters=1000"
      ],
      "metadata": {
        "id": "4TAMHtwGKShL"
      },
      "execution_count": 124,
      "outputs": []
    },
    {
      "cell_type": "code",
      "source": [
        "descriptors = np.asarray([])\n",
        "extractor = cv2.SIFT_create()\n",
        "for img in imgFiles:\n",
        "    gray = cv2.cvtColor(img,cv2.COLOR_RGB2GRAY)\n",
        "    keypoints, desc = extractor.detectAndCompute(gray, None)\n",
        "    if type(desc) == np.ndarray :\n",
        "        if descriptors.shape[0] == 0:\n",
        "            descriptors = desc\n",
        "        else:\n",
        "            descriptors = np.concatenate((descriptors, desc), axis=0)\n",
        "kmeans = KMeans(n_clusters = numberOfClusters)"
      ],
      "metadata": {
        "id": "LIYYkhAmKNO6"
      },
      "execution_count": 125,
      "outputs": []
    },
    {
      "cell_type": "code",
      "source": [
        "descriptors.shape"
      ],
      "metadata": {
        "colab": {
          "base_uri": "https://localhost:8080/"
        },
        "id": "EZHGPYiuz5yX",
        "outputId": "80959da0-2039-4484-eeea-60812bfed0f8"
      },
      "execution_count": 126,
      "outputs": [
        {
          "output_type": "execute_result",
          "data": {
            "text/plain": [
              "(129792, 128)"
            ]
          },
          "metadata": {},
          "execution_count": 126
        }
      ]
    },
    {
      "cell_type": "code",
      "source": [
        "len(labels)"
      ],
      "metadata": {
        "colab": {
          "base_uri": "https://localhost:8080/"
        },
        "id": "0RfUSbBlzvdd",
        "outputId": "56af9608-46b0-4a75-8cc1-92a72a284820"
      },
      "execution_count": 127,
      "outputs": [
        {
          "output_type": "execute_result",
          "data": {
            "text/plain": [
              "10000"
            ]
          },
          "metadata": {},
          "execution_count": 127
        }
      ]
    },
    {
      "cell_type": "code",
      "source": [
        "descriptors.shape"
      ],
      "metadata": {
        "colab": {
          "base_uri": "https://localhost:8080/"
        },
        "id": "5LhTiuUZzPph",
        "outputId": "2483c1b7-8622-4064-d591-deb4c2fc1ba0"
      },
      "execution_count": 128,
      "outputs": [
        {
          "output_type": "execute_result",
          "data": {
            "text/plain": [
              "(129792, 128)"
            ]
          },
          "metadata": {},
          "execution_count": 128
        }
      ]
    },
    {
      "cell_type": "code",
      "source": [
        "kmeans.fit(descriptors)"
      ],
      "metadata": {
        "colab": {
          "base_uri": "https://localhost:8080/"
        },
        "id": "uOmIGQFaKZoW",
        "outputId": "985ebbb4-844a-422b-8fda-0c73901afbdc"
      },
      "execution_count": 129,
      "outputs": [
        {
          "output_type": "execute_result",
          "data": {
            "text/plain": [
              "KMeans(n_clusters=1000)"
            ]
          },
          "metadata": {},
          "execution_count": 129
        }
      ]
    },
    {
      "cell_type": "code",
      "source": [
        "allBOVW = []\n",
        "ext = cv2.xfeatures2d.SIFT_create()\n",
        "for img in imgFiles:\n",
        "  bovw = [0]*numberOfClusters\n",
        "  gray = cv2.cvtColor(img,cv2.COLOR_RGB2GRAY)\n",
        "  keypoints, descriptors = ext.detectAndCompute(gray, None)\n",
        "  if type(descriptors) == np.ndarray:\n",
        "      pred = kmeans.predict(descriptors)\n",
        "      for ele in pred:\n",
        "          bovw[ele] = bovw[ele] + 1\n",
        "  allBOVW.append(bovw)"
      ],
      "metadata": {
        "id": "j-fVieq8KdWk"
      },
      "execution_count": 130,
      "outputs": []
    },
    {
      "cell_type": "code",
      "source": [
        "allBOVW = np.asarray(allBOVW)"
      ],
      "metadata": {
        "id": "6Jcc1CP0Nxeg"
      },
      "execution_count": 131,
      "outputs": []
    },
    {
      "cell_type": "code",
      "source": [
        "allBOVW.shape"
      ],
      "metadata": {
        "colab": {
          "base_uri": "https://localhost:8080/"
        },
        "id": "57EqBP_44s-h",
        "outputId": "1ca9813c-fc5f-40a2-8659-199cf1c9c222"
      },
      "execution_count": 132,
      "outputs": [
        {
          "output_type": "execute_result",
          "data": {
            "text/plain": [
              "(10000, 1000)"
            ]
          },
          "metadata": {},
          "execution_count": 132
        }
      ]
    },
    {
      "cell_type": "code",
      "source": [
        "from sklearn.model_selection import train_test_split"
      ],
      "metadata": {
        "id": "cdwa2l3gOwyS"
      },
      "execution_count": 133,
      "outputs": []
    },
    {
      "cell_type": "code",
      "source": [
        "trainImgs,testImgs, trainLabels, testLabels = train_test_split(allBOVW, labels, \n",
        "                                                      train_size=0.7, random_state=0)"
      ],
      "metadata": {
        "id": "Datvupy7Ogur"
      },
      "execution_count": 134,
      "outputs": []
    },
    {
      "cell_type": "code",
      "source": [
        "from sklearn.linear_model import LogisticRegression\n",
        "LRegression = LogisticRegression().fit(trainImgs, trainLabels)"
      ],
      "metadata": {
        "id": "5s8W8FhPy1oN"
      },
      "execution_count": 152,
      "outputs": []
    },
    {
      "cell_type": "code",
      "source": [
        "LRegression.score(testImgs,testLabels)"
      ],
      "metadata": {
        "colab": {
          "base_uri": "https://localhost:8080/"
        },
        "id": "GnHG6cA9zRja",
        "outputId": "b0449c5a-5451-4b39-f491-a7a7b7928b6a"
      },
      "execution_count": 153,
      "outputs": [
        {
          "output_type": "execute_result",
          "data": {
            "text/plain": [
              "0.23766666666666666"
            ]
          },
          "metadata": {},
          "execution_count": 153
        }
      ]
    },
    {
      "cell_type": "code",
      "source": [
        "from sklearn import svm\n",
        "SVClassifier = svm.SVC(gamma=0.01,kernel='rbf')\n",
        "SVClassifier.fit(trainImgs,trainLabels)"
      ],
      "metadata": {
        "colab": {
          "base_uri": "https://localhost:8080/"
        },
        "id": "evc1snHfzY6j",
        "outputId": "540f7cfa-e383-4302-b5d7-b7e4ef2825cc"
      },
      "execution_count": 154,
      "outputs": [
        {
          "output_type": "execute_result",
          "data": {
            "text/plain": [
              "SVC(gamma=0.01)"
            ]
          },
          "metadata": {},
          "execution_count": 154
        }
      ]
    },
    {
      "cell_type": "code",
      "source": [
        "SVClassifier.score(testImgs,testLabels)"
      ],
      "metadata": {
        "colab": {
          "base_uri": "https://localhost:8080/"
        },
        "id": "xM7WPXrrzf8O",
        "outputId": "aaec8d70-00b1-4b47-9cc1-1df65e845948"
      },
      "execution_count": 155,
      "outputs": [
        {
          "output_type": "execute_result",
          "data": {
            "text/plain": [
              "0.259"
            ]
          },
          "metadata": {},
          "execution_count": 155
        }
      ]
    },
    {
      "cell_type": "code",
      "source": [],
      "metadata": {
        "id": "dKTFxY9szgmt"
      },
      "execution_count": null,
      "outputs": []
    }
  ],
  "metadata": {
    "colab": {
      "provenance": [],
      "mount_file_id": "1XUwc2aOMhl4q1H9i145p_QU_XsPnYyou",
      "authorship_tag": "ABX9TyPZsK38YwYw9MwkWOaeta82",
      "include_colab_link": true
    },
    "kernelspec": {
      "display_name": "Python 3",
      "name": "python3"
    },
    "language_info": {
      "name": "python"
    }
  },
  "nbformat": 4,
  "nbformat_minor": 0
}